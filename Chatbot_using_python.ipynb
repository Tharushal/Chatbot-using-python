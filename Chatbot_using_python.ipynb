{
  "nbformat": 4,
  "nbformat_minor": 0,
  "metadata": {
    "colab": {
      "name": "Chatbot using python.ipynb",
      "provenance": [],
      "authorship_tag": "ABX9TyPTKh9sOS1VI0ezOKvQYMSc",
      "include_colab_link": true
    },
    "kernelspec": {
      "name": "python3",
      "display_name": "Python 3"
    }
  },
  "cells": [
    {
      "cell_type": "markdown",
      "metadata": {
        "id": "view-in-github",
        "colab_type": "text"
      },
      "source": [
        "<a href=\"https://colab.research.google.com/github/Tharushal/Chatbot-using-python/blob/master/Chatbot_using_python.ipynb\" target=\"_parent\"><img src=\"https://colab.research.google.com/assets/colab-badge.svg\" alt=\"Open In Colab\"/></a>"
      ]
    },
    {
      "cell_type": "markdown",
      "metadata": {
        "id": "P7icLX4v0e2Z",
        "colab_type": "text"
      },
      "source": [
        "This is a chat bot program"
      ]
    },
    {
      "cell_type": "code",
      "metadata": {
        "id": "AvNehXazzD-S",
        "colab_type": "code",
        "colab": {}
      },
      "source": [
        "#import the library\n",
        "from nltk.chat.util import Chat, reflections"
      ],
      "execution_count": 54,
      "outputs": []
    },
    {
      "cell_type": "code",
      "metadata": {
        "id": "QPs0j0li1QNi",
        "colab_type": "code",
        "colab": {}
      },
      "source": [
        "pairs = [\n",
        "         ['my name is (.*)' , ['hi %1']],\n",
        "         ['(hi|hello|hey|holla|hola)' , ['hey there','hi there','haayy']],\n",
        "         ['(.*) in (.*) is fun', ['%1 in %2 is indeed fun']], \n",
        "         ['(.*)(location|city) ?','Kandy, Sri lanka'],\n",
        "         ['(.*) created you?', ['tharusha did using NLTK']],\n",
        "         ['how is the weather in (.*)',['the weather in %1 is amazing like always']],\n",
        "         ['(.*) help (.*)', ['I can help you']],\n",
        "         ['(.*) your name?' , ['my name is E.D.I.T.H']],\n",
        "         ['(.*)that was helpful',['Iam happy to help\", \"No problem, you are welcome',]],\n",
        "         [\"quit\",[\"Bye, take care. See you soon :) \",\"It was nice talking to you. See you soon :)\"]],\n",
        "         \n",
        "]"
      ],
      "execution_count": 83,
      "outputs": []
    },
    {
      "cell_type": "code",
      "metadata": {
        "id": "2fdhWA6m2Xsg",
        "colab_type": "code",
        "colab": {}
      },
      "source": [
        "chat = Chat(pairs, reflections)\n",
        "chat.converse()\n"
      ],
      "execution_count": null,
      "outputs": []
    }
  ]
}