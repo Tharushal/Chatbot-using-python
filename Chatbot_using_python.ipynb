{
  "nbformat": 4,
  "nbformat_minor": 0,
  "metadata": {
    "colab": {
      "name": "Chatbot using python.ipynb",
      "provenance": [],
      "authorship_tag": "ABX9TyONiXHiZ8aAXKOWXv319m40",
      "include_colab_link": true
    },
    "kernelspec": {
      "name": "python3",
      "display_name": "Python 3"
    }
  },
  "cells": [
    {
      "cell_type": "markdown",
      "metadata": {
        "id": "view-in-github",
        "colab_type": "text"
      },
      "source": [
        "<a href=\"https://colab.research.google.com/github/Tharushal/Chatbot-using-python/blob/master/Chatbot_using_python.ipynb\" target=\"_parent\"><img src=\"https://colab.research.google.com/assets/colab-badge.svg\" alt=\"Open In Colab\"/></a>"
      ]
    },
    {
      "cell_type": "markdown",
      "metadata": {
        "id": "P7icLX4v0e2Z",
        "colab_type": "text"
      },
      "source": [
        "This is a chat bot program"
      ]
    },
    {
      "cell_type": "code",
      "metadata": {
        "id": "AvNehXazzD-S",
        "colab_type": "code",
        "colab": {}
      },
      "source": [
        "#import the library\n",
        "from nltk.chat.util import Chat, reflections"
      ],
      "execution_count": 3,
      "outputs": []
    },
    {
      "cell_type": "code",
      "metadata": {
        "id": "QPs0j0li1QNi",
        "colab_type": "code",
        "colab": {}
      },
      "source": [
        ""
      ],
      "execution_count": null,
      "outputs": []
    }
  ]
}